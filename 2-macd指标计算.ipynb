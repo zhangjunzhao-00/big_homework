{
 "cells": [
  {
   "cell_type": "markdown",
   "metadata": {},
   "source": [
    "macd指标概念：\n",
    "平滑异同移动平均线 (Moving Average Convergence Divergence) \n",
    "指数移动平均数指标(Exponential Moving Average，EXPMA或EMA)\n",
    "由于macd概念清晰，但有很多不同说法，所以我们在一下说法与概念对应如下：\n",
    "短期ema ema(close, 12)\n",
    "长期ema ema(close, 26)\n",
    "离差值 dif = ema(close, 12) - ema(close, 26)\n",
    "离差平均值 dea = ema(dif, 9)\n",
    "柱 histogram = (dif - dea) * 2\n",
    "\n",
    "macd到底是什么？\n",
    "因为dif是macd指标的核心, 所以有时候也叫dif为macd\n",
    "因为有时候不体现histogram的命名, 所以也叫 histogram 为macd\n",
    "因为有时候dea的说法比较不稳定, 所以也会叫 dea为macd\n",
    "我们认为macd是一个整体概念,不是哪条线"
   ]
  },
  {
   "cell_type": "markdown",
   "metadata": {},
   "source": [
    "# 导入相关模块"
   ]
  },
  {
   "cell_type": "code",
   "execution_count": 1,
   "metadata": {},
   "outputs": [],
   "source": [
    "import os # 操作系统库\n",
    "import json # 处理json格式的数据\n",
    "import requests # 发起网络请求\n",
    "import pandas as pd # 优秀的分析数据工具\n",
    "import numpy as np # 处理数字的工具\n",
    "import matplotlib.pyplot as plt # 强大的画图工具"
   ]
  },
  {
   "cell_type": "code",
   "execution_count": 2,
   "metadata": {},
   "outputs": [],
   "source": [
    "def run():\n",
    "    ''' 主程序, 用来调度各个重要流程 '''\n",
    "    print('正在下载')\n",
    "    kline = download()\n",
    "    df = init_df(kline)\n",
    "\n",
    "    windows = [5, 10, 20, 60]\n",
    "    df = ma_lines(df, windows)\n",
    "    df = macd_lines(df)\n",
    "\n",
    "    draw(df, windows)\n",
    "    df.to_csv('lesson7.csv', index=False)"
   ]
  },
  {
   "cell_type": "code",
   "execution_count": 3,
   "metadata": {},
   "outputs": [],
   "source": [
    "def download():\n",
    "    '''抓取数据'''\n",
    "    response = requests.get(\n",
    "        'http://yunhq.sse.com.cn:32041/v1/sh1/dayk/600519?callback=jQuery111205234775875526079_1542185571865&select=date%2Copen%2Chigh%2Clow%2Cclose%2Cvolume&begin=-1000&end=-500&_=1542185571881',\n",
    "        headers={'Referer': 'http://www.sse.com.cn/market/price/trends/'}\n",
    "    )\n",
    "\n",
    "    # 针对结果进行格式处理\n",
    "    json_str = response.text[42:-1]\n",
    "    data = json.loads(json_str)\n",
    "    return data['kline']\n"
   ]
  },
  {
   "cell_type": "code",
   "execution_count": 4,
   "metadata": {},
   "outputs": [],
   "source": [
    "def init_df(kline):\n",
    "    ''' 根据K线数据，创建含有日期与收盘价的矩阵 '''\n",
    "    df = pd.DataFrame({})\n",
    "    df['date'] =  [x[0] for x in kline]\n",
    "    df['close'] = [x[4] for x in kline]\n",
    "\n",
    "    return df"
   ]
  },
  {
   "cell_type": "code",
   "execution_count": 5,
   "metadata": {},
   "outputs": [],
   "source": [
    "def ma_lines(df, windows):\n",
    "    for window in windows:\n",
    "        name = 'ma%s' % (window)\n",
    "        df[name] = df['close'].rolling(window).apply(lambda x: sum(x) / len(x), raw=True)\n",
    "    return df"
   ]
  },
  {
   "cell_type": "code",
   "execution_count": 6,
   "metadata": {},
   "outputs": [],
   "source": [
    "def macd_lines(df):\n",
    "    '''生成macd的各种指标'''\n",
    "    df['ema12'] = ema_lines(df, 'close', 12) #短期ema\n",
    "    df['ema26'] = ema_lines(df, 'close', 26) #长期ema\n",
    "    df['dif'] = df['ema12'] - df['ema26'] #离差值\n",
    "    df['dea'] = ema_lines(df, 'dif', 9) #离差平均值\n",
    "    df['histogram'] = (df['dif'] - df['dea']) * 2 #柱\n",
    "    return df"
   ]
  },
  {
   "cell_type": "markdown",
   "metadata": {},
   "source": [
    "ema初值\n",
    "方法1 使用第一个收盘价\n",
    "方法2 前几天的收盘价平均值\n",
    "方法3 (H+L+2C)/4\n",
    "方法4 迭代平滑因子,从1不断接近设定的alpah 此处采用最简单与常见的方法1\n",
    "\n",
    "重要参数 12 26 9这几个参数是在追踪经验上发现比较合适的, 也是最主流的用法\n",
    "2倍的 dif - dea 按理说, 差值已经体现了两条线的关系, 不需要再乘以2\n",
    "不过, 很多地方都约定俗成, 乘以2来放大差距,方便观察\n",
    "我们直接使用pandas提供的ewm"
   ]
  },
  {
   "cell_type": "code",
   "execution_count": 7,
   "metadata": {},
   "outputs": [],
   "source": [
    "def ema_lines(df, from_label, N):\n",
    "    '''生成ema指标，直接使用pandas提供的ewm'''\n",
    "    line = df[from_label].ewm(alpha=2/(N+1), adjust=False).mean()\n",
    "\n",
    "    # 为了与多数平台保持一致,保留3位小数\n",
    "    return round(line, 3)"
   ]
  },
  {
   "cell_type": "code",
   "execution_count": 8,
   "metadata": {},
   "outputs": [],
   "source": [
    "def draw(df, windows):\n",
    "    ''' 画图 '''\n",
    "    # 创建画板\n",
    "    plt.figure(figsize=(7, 4))\n",
    "\n",
    "    # 准备横坐标\n",
    "    count = df.count()['close']\n",
    "    index = np.arange(count)\n",
    "    df['index'] = index\n",
    "\n",
    "    # 设置横坐标的刻度与显示标签\n",
    "    limit = 20\n",
    "    plt.subplot(211)\n",
    "    # plt.xticks(index[::limit], df['date'][::limit])\n",
    "\n",
    "    # 画收盘价曲线\n",
    "    plt.xlabel('date')\n",
    "    plt.ylabel('close')\n",
    "    l_close, = plt.plot(index, df['close'], 'black', label='close')\n",
    "    legend_handles_close = [l_close]\n",
    "\n",
    "    for window in windows:\n",
    "        name = 'ma%s' % (window)\n",
    "        l_ma, = plt.plot(index, df[name], label=name)\n",
    "        legend_handles_close.append(l_ma)\n",
    "    plt.legend(handles=legend_handles_close)\n",
    "\n",
    "    plt.subplot(212)\n",
    "    plt.xticks(index[::limit], df['date'][::limit])\n",
    "\n",
    "    plt.xlabel('date')\n",
    "    plt.ylabel('macd')\n",
    "    macd_labels = ['ema12', 'ema26', 'dif', 'dea', 'histogram']\n",
    "    l_dif, = plt.plot(index, df['dif'], label='dif')\n",
    "    l_dea, = plt.plot(index, df['dea'], label='dea')\n",
    "    plt.bar(index, df['histogram'])\n",
    "    legend_handles_macd = [l_dif, l_dea]\n",
    "\n",
    "    plt.legend(handles=legend_handles_macd)\n",
    "    plt.show()"
   ]
  },
  {
   "cell_type": "code",
   "execution_count": 9,
   "metadata": {},
   "outputs": [
    {
     "name": "stdout",
     "output_type": "stream",
     "text": [
      "正在下载\n"
     ]
    },
    {
     "data": {
      "image/png": "[encoded data removed]",
      "text/plain": [
       "<Figure size 504x288 with 2 Axes>"
      ]
     },
     "metadata": {
      "needs_background": "light"
     },
     "output_type": "display_data"
    }
   ],
   "source": [
    "if __name__ == '__main__':\n",
    "    run()"
   ]
  },
  {
   "cell_type": "markdown",
   "metadata": {},
   "source": [
    "通过上图分析，我们看到贵州茅台的macd指标上涨十分快速，且收盘价也在稳步上涨。"
   ]
  },
  {
   "cell_type": "code",
   "execution_count": null,
   "metadata": {},
   "outputs": [],
   "source": []
  }
 ],
 "metadata": {
  "kernelspec": {
   "display_name": "Python 3",
   "language": "python",
   "name": "python3"
  },
  "language_info": {
   "codemirror_mode": {
    "name": "ipython",
    "version": 3
   },
   "file_extension": ".py",
   "mimetype": "text/x-python",
   "name": "python",
   "nbconvert_exporter": "python",
   "pygments_lexer": "ipython3",
   "version": "3.6.10"
  }
 },
 "nbformat": 4,
 "nbformat_minor": 4
}
